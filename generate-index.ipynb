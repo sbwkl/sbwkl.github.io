{
 "cells": [
  {
   "cell_type": "code",
   "execution_count": 1,
   "metadata": {},
   "outputs": [],
   "source": [
    "import os"
   ]
  },
  {
   "cell_type": "code",
   "execution_count": 13,
   "metadata": {},
   "outputs": [],
   "source": [
    "md_file_list = []\n",
    "for root, subdirs, files in os.walk('post'):\n",
    "    for file in files:\n",
    "        if file.endswith('.md'):\n",
    "            path = root + '/' + file\n",
    "            mtime = os.path.getmtime(path)\n",
    "            md_file_list.append({\n",
    "                'path': path,\n",
    "                'mtime': mtime\n",
    "            })\n",
    "md_file_list.sort(reverse = True, key = lambda md : md.get('mtime'))\n",
    "\n",
    "idx_list = []\n",
    "for md in md_file_list:\n",
    "    with open(md.get('path'), 'r', encoding='utf-8') as f:\n",
    "        line_1 = f.readline()\n",
    "        line_1 = line_1.replace('\\n', '')\n",
    "        title = line_1[2:]\n",
    "        idx_list.append('[{}]({})\\n\\n'.format(title, md.get('path')))\n",
    "\n",
    "with open('./index.md', 'w', encoding='utf-8') as idx:\n",
    "    idx.writelines(idx_list)"
   ]
  }
 ],
 "metadata": {
  "interpreter": {
   "hash": "472d667032c10a1bcfe44a0ac7fce308593da9d0aa0ef642ef6fd30d47211a6d"
  },
  "kernelspec": {
   "display_name": "Python 3.7.13 ('py37')",
   "language": "python",
   "name": "python3"
  },
  "language_info": {
   "codemirror_mode": {
    "name": "ipython",
    "version": 3
   },
   "file_extension": ".py",
   "mimetype": "text/x-python",
   "name": "python",
   "nbconvert_exporter": "python",
   "pygments_lexer": "ipython3",
   "version": "3.7.13"
  },
  "orig_nbformat": 4
 },
 "nbformat": 4,
 "nbformat_minor": 2
}
