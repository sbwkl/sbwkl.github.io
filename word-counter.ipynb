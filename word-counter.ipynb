{
 "cells": [
  {
   "cell_type": "code",
   "execution_count": null,
   "metadata": {},
   "outputs": [],
   "source": [
    "import re\n",
    "import os"
   ]
  },
  {
   "cell_type": "code",
   "execution_count": null,
   "metadata": {},
   "outputs": [],
   "source": [
    "def read_article(path):\n",
    "    file_content = ''\n",
    "    with open(path, 'r') as file:\n",
    "        file_content = file.read()\n",
    "    return file_content\n",
    "\n",
    "def count_article(path):\n",
    "    content = read_article(path)\n",
    "    segment_list = re.findall(r'[\\u4e00-\\u9fff]+', content)\n",
    "    wc = 0\n",
    "    for e in segment_list:\n",
    "        wc += len(e)\n",
    "    return wc\n",
    "def format_wc(wc):\n",
    "    if wc < 10000:\n",
    "        print(wc)\n",
    "    else:\n",
    "        print('%.1f%s' % (wc / 10000, '万'))"
   ]
  },
  {
   "cell_type": "code",
   "execution_count": null,
   "metadata": {},
   "outputs": [],
   "source": [
    "def word_counter():\n",
    "    tc = 0\n",
    "    for root, subdirs, files in os.walk('post'):\n",
    "        for filename in files:\n",
    "            if filename.endswith('md'):\n",
    "                wc = count_article(root + '/' + filename)\n",
    "                tc += wc\n",
    "    return tc\n",
    "\n",
    "format_wc(word_counter())"
   ]
  }
 ],
 "metadata": {
  "interpreter": {
   "hash": "472d667032c10a1bcfe44a0ac7fce308593da9d0aa0ef642ef6fd30d47211a6d"
  },
  "kernelspec": {
   "display_name": "Python 3.7.13 ('py37')",
   "language": "python",
   "name": "python3"
  },
  "language_info": {
   "codemirror_mode": {
    "name": "ipython",
    "version": 3
   },
   "file_extension": ".py",
   "mimetype": "text/x-python",
   "name": "python",
   "nbconvert_exporter": "python",
   "pygments_lexer": "ipython3",
   "version": "3.7.13"
  },
  "orig_nbformat": 4
 },
 "nbformat": 4,
 "nbformat_minor": 2
}
